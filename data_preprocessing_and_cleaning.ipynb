{
 "cells": [
  {
   "cell_type": "code",
   "execution_count": 3,
   "metadata": {},
   "outputs": [],
   "source": [
    "import numpy as np\n",
    "import pandas as pd"
   ]
  },
  {
   "cell_type": "code",
   "execution_count": 4,
   "metadata": {},
   "outputs": [],
   "source": [
    "steam_filepath = \"data/steam_users.csv\"\n",
    "stream_df = pd.read_csv(steam_filepath)"
   ]
  },
  {
   "cell_type": "code",
   "execution_count": 5,
   "metadata": {},
   "outputs": [
    {
     "data": {
      "text/html": [
       "<div>\n",
       "<style scoped>\n",
       "    .dataframe tbody tr th:only-of-type {\n",
       "        vertical-align: middle;\n",
       "    }\n",
       "\n",
       "    .dataframe tbody tr th {\n",
       "        vertical-align: top;\n",
       "    }\n",
       "\n",
       "    .dataframe thead th {\n",
       "        text-align: right;\n",
       "    }\n",
       "</style>\n",
       "<table border=\"1\" class=\"dataframe\">\n",
       "  <thead>\n",
       "    <tr style=\"text-align: right;\">\n",
       "      <th></th>\n",
       "      <th>user</th>\n",
       "      <th>game</th>\n",
       "      <th>purchase_play</th>\n",
       "      <th>hours</th>\n",
       "      <th>others</th>\n",
       "    </tr>\n",
       "  </thead>\n",
       "  <tbody>\n",
       "    <tr>\n",
       "      <th>0</th>\n",
       "      <td>151603712</td>\n",
       "      <td>The Elder Scrolls V Skyrim</td>\n",
       "      <td>purchase</td>\n",
       "      <td>1.0</td>\n",
       "      <td>0</td>\n",
       "    </tr>\n",
       "    <tr>\n",
       "      <th>1</th>\n",
       "      <td>151603712</td>\n",
       "      <td>The Elder Scrolls V Skyrim</td>\n",
       "      <td>play</td>\n",
       "      <td>273.0</td>\n",
       "      <td>0</td>\n",
       "    </tr>\n",
       "    <tr>\n",
       "      <th>2</th>\n",
       "      <td>151603712</td>\n",
       "      <td>Fallout 4</td>\n",
       "      <td>purchase</td>\n",
       "      <td>1.0</td>\n",
       "      <td>0</td>\n",
       "    </tr>\n",
       "    <tr>\n",
       "      <th>3</th>\n",
       "      <td>151603712</td>\n",
       "      <td>Fallout 4</td>\n",
       "      <td>play</td>\n",
       "      <td>87.0</td>\n",
       "      <td>0</td>\n",
       "    </tr>\n",
       "    <tr>\n",
       "      <th>4</th>\n",
       "      <td>151603712</td>\n",
       "      <td>Spore</td>\n",
       "      <td>purchase</td>\n",
       "      <td>1.0</td>\n",
       "      <td>0</td>\n",
       "    </tr>\n",
       "  </tbody>\n",
       "</table>\n",
       "</div>"
      ],
      "text/plain": [
       "        user                        game purchase_play  hours  others\n",
       "0  151603712  The Elder Scrolls V Skyrim      purchase    1.0       0\n",
       "1  151603712  The Elder Scrolls V Skyrim          play  273.0       0\n",
       "2  151603712                   Fallout 4      purchase    1.0       0\n",
       "3  151603712                   Fallout 4          play   87.0       0\n",
       "4  151603712                       Spore      purchase    1.0       0"
      ]
     },
     "execution_count": 5,
     "metadata": {},
     "output_type": "execute_result"
    }
   ],
   "source": [
    "stream_df.head()"
   ]
  },
  {
   "cell_type": "code",
   "execution_count": 6,
   "metadata": {},
   "outputs": [
    {
     "name": "stdout",
     "output_type": "stream",
     "text": [
      "Number of games : 5155\n",
      "Number of users : 12393\n"
     ]
    }
   ],
   "source": [
    "print(\"Number of games : {0}\".format(len(stream_df.game.unique())))\n",
    "print(\"Number of users : {0}\".format(len(stream_df.user.unique())))"
   ]
  },
  {
   "cell_type": "code",
   "execution_count": 7,
   "metadata": {},
   "outputs": [],
   "source": [
    "# Dropping the others column as it has zero values for all\n",
    "stream_df.drop(columns=[\"others\"],inplace=True,axis=1)"
   ]
  },
  {
   "cell_type": "code",
   "execution_count": 8,
   "metadata": {},
   "outputs": [
    {
     "name": "stdout",
     "output_type": "stream",
     "text": [
      "<class 'pandas.core.frame.DataFrame'>\n",
      "RangeIndex: 200000 entries, 0 to 199999\n",
      "Data columns (total 4 columns):\n",
      " #   Column         Non-Null Count   Dtype  \n",
      "---  ------         --------------   -----  \n",
      " 0   user           200000 non-null  int64  \n",
      " 1   game           200000 non-null  object \n",
      " 2   purchase_play  200000 non-null  object \n",
      " 3   hours          200000 non-null  float64\n",
      "dtypes: float64(1), int64(1), object(2)\n",
      "memory usage: 6.1+ MB\n"
     ]
    }
   ],
   "source": [
    "stream_df.info()"
   ]
  },
  {
   "cell_type": "code",
   "execution_count": 9,
   "metadata": {},
   "outputs": [
    {
     "name": "stdout",
     "output_type": "stream",
     "text": [
      "Before check - shape:  (200000, 4)\n",
      "Before check - shape:  (200000, 4)\n"
     ]
    }
   ],
   "source": [
    "# Check if any column has Null value\n",
    "print(\"Before check - shape: \", stream_df.shape)\n",
    "stream_df.dropna(how='any', inplace=True)\n",
    "print(\"Before check - shape: \", stream_df.shape)"
   ]
  },
  {
   "cell_type": "code",
   "execution_count": 10,
   "metadata": {},
   "outputs": [
    {
     "data": {
      "text/plain": [
       "(199281, 4)"
      ]
     },
     "execution_count": 10,
     "metadata": {},
     "output_type": "execute_result"
    }
   ],
   "source": [
    "# Check if any games for duplicate purchase and remove it.\n",
    "stream_df.drop_duplicates(subset=['user','game','purchase_play'], keep='first', inplace=True)\n",
    "stream_df.shape"
   ]
  },
  {
   "cell_type": "markdown",
   "metadata": {},
   "source": [
    "#### Let's do Feature Engineering \n",
    "\n",
    "I am dividing the purchase / play column into 2 columns. Data collection is basically duplicating each record with one labeled as ‘purchase’ and one labelled as ‘play’. The ‘purchase row’ records 1 hour. Obviously this doesn’t make sense, so I’ll remove this in the split and keep only the ‘play‘ hours."
   ]
  },
  {
   "cell_type": "code",
   "execution_count": 11,
   "metadata": {},
   "outputs": [],
   "source": [
    "def purchase_split(data):\n",
    "    if data['purchase_play'] == 'purchase':\n",
    "        return 1\n",
    "    else:\n",
    "        return 0\n",
    "    \n",
    "def play_split(data):\n",
    "    if data['purchase_play'] == 'play':\n",
    "        return 1\n",
    "    else:\n",
    "        return 0\n",
    "    \n",
    "def play_hours_split(data):\n",
    "    return data['hours'] - data['purchase']"
   ]
  },
  {
   "cell_type": "code",
   "execution_count": 12,
   "metadata": {},
   "outputs": [],
   "source": [
    "stream_df['purchase'] = stream_df.apply (lambda data: purchase_split(data), axis=1)\n",
    "stream_df['play'] = stream_df.apply (lambda data: play_split(data), axis=1)\n",
    "stream_df['hours'] = stream_df.apply (lambda data: play_hours_split(data), axis=1)\n",
    "df_cleaned = stream_df.groupby(['user','game']).sum().reset_index()"
   ]
  },
  {
   "cell_type": "code",
   "execution_count": 13,
   "metadata": {},
   "outputs": [
    {
     "data": {
      "text/html": [
       "<div>\n",
       "<style scoped>\n",
       "    .dataframe tbody tr th:only-of-type {\n",
       "        vertical-align: middle;\n",
       "    }\n",
       "\n",
       "    .dataframe tbody tr th {\n",
       "        vertical-align: top;\n",
       "    }\n",
       "\n",
       "    .dataframe thead th {\n",
       "        text-align: right;\n",
       "    }\n",
       "</style>\n",
       "<table border=\"1\" class=\"dataframe\">\n",
       "  <thead>\n",
       "    <tr style=\"text-align: right;\">\n",
       "      <th></th>\n",
       "      <th>user</th>\n",
       "      <th>game</th>\n",
       "      <th>purchase_play</th>\n",
       "      <th>hours</th>\n",
       "      <th>purchase</th>\n",
       "      <th>play</th>\n",
       "    </tr>\n",
       "  </thead>\n",
       "  <tbody>\n",
       "    <tr>\n",
       "      <th>0</th>\n",
       "      <td>5250</td>\n",
       "      <td>Alien Swarm</td>\n",
       "      <td>purchaseplay</td>\n",
       "      <td>4.9</td>\n",
       "      <td>1</td>\n",
       "      <td>1</td>\n",
       "    </tr>\n",
       "    <tr>\n",
       "      <th>1</th>\n",
       "      <td>5250</td>\n",
       "      <td>Cities Skylines</td>\n",
       "      <td>purchaseplay</td>\n",
       "      <td>144.0</td>\n",
       "      <td>1</td>\n",
       "      <td>1</td>\n",
       "    </tr>\n",
       "    <tr>\n",
       "      <th>2</th>\n",
       "      <td>5250</td>\n",
       "      <td>Counter-Strike</td>\n",
       "      <td>purchase</td>\n",
       "      <td>0.0</td>\n",
       "      <td>1</td>\n",
       "      <td>0</td>\n",
       "    </tr>\n",
       "    <tr>\n",
       "      <th>3</th>\n",
       "      <td>5250</td>\n",
       "      <td>Counter-Strike Source</td>\n",
       "      <td>purchase</td>\n",
       "      <td>0.0</td>\n",
       "      <td>1</td>\n",
       "      <td>0</td>\n",
       "    </tr>\n",
       "    <tr>\n",
       "      <th>4</th>\n",
       "      <td>5250</td>\n",
       "      <td>Day of Defeat</td>\n",
       "      <td>purchase</td>\n",
       "      <td>0.0</td>\n",
       "      <td>1</td>\n",
       "      <td>0</td>\n",
       "    </tr>\n",
       "    <tr>\n",
       "      <th>...</th>\n",
       "      <td>...</td>\n",
       "      <td>...</td>\n",
       "      <td>...</td>\n",
       "      <td>...</td>\n",
       "      <td>...</td>\n",
       "      <td>...</td>\n",
       "    </tr>\n",
       "    <tr>\n",
       "      <th>128799</th>\n",
       "      <td>309626088</td>\n",
       "      <td>Age of Empires II HD Edition</td>\n",
       "      <td>purchaseplay</td>\n",
       "      <td>6.7</td>\n",
       "      <td>1</td>\n",
       "      <td>1</td>\n",
       "    </tr>\n",
       "    <tr>\n",
       "      <th>128800</th>\n",
       "      <td>309812026</td>\n",
       "      <td>Counter-Strike Nexon Zombies</td>\n",
       "      <td>purchase</td>\n",
       "      <td>0.0</td>\n",
       "      <td>1</td>\n",
       "      <td>0</td>\n",
       "    </tr>\n",
       "    <tr>\n",
       "      <th>128801</th>\n",
       "      <td>309812026</td>\n",
       "      <td>Robocraft</td>\n",
       "      <td>purchase</td>\n",
       "      <td>0.0</td>\n",
       "      <td>1</td>\n",
       "      <td>0</td>\n",
       "    </tr>\n",
       "    <tr>\n",
       "      <th>128802</th>\n",
       "      <td>309824202</td>\n",
       "      <td>Dota 2</td>\n",
       "      <td>purchaseplay</td>\n",
       "      <td>0.7</td>\n",
       "      <td>1</td>\n",
       "      <td>1</td>\n",
       "    </tr>\n",
       "    <tr>\n",
       "      <th>128803</th>\n",
       "      <td>309903146</td>\n",
       "      <td>Dota 2</td>\n",
       "      <td>purchaseplay</td>\n",
       "      <td>0.2</td>\n",
       "      <td>1</td>\n",
       "      <td>1</td>\n",
       "    </tr>\n",
       "  </tbody>\n",
       "</table>\n",
       "<p>128804 rows × 6 columns</p>\n",
       "</div>"
      ],
      "text/plain": [
       "             user                          game purchase_play  hours  \\\n",
       "0            5250                   Alien Swarm  purchaseplay    4.9   \n",
       "1            5250               Cities Skylines  purchaseplay  144.0   \n",
       "2            5250                Counter-Strike      purchase    0.0   \n",
       "3            5250         Counter-Strike Source      purchase    0.0   \n",
       "4            5250                 Day of Defeat      purchase    0.0   \n",
       "...           ...                           ...           ...    ...   \n",
       "128799  309626088  Age of Empires II HD Edition  purchaseplay    6.7   \n",
       "128800  309812026  Counter-Strike Nexon Zombies      purchase    0.0   \n",
       "128801  309812026                     Robocraft      purchase    0.0   \n",
       "128802  309824202                        Dota 2  purchaseplay    0.7   \n",
       "128803  309903146                        Dota 2  purchaseplay    0.2   \n",
       "\n",
       "        purchase  play  \n",
       "0              1     1  \n",
       "1              1     1  \n",
       "2              1     0  \n",
       "3              1     0  \n",
       "4              1     0  \n",
       "...          ...   ...  \n",
       "128799         1     1  \n",
       "128800         1     0  \n",
       "128801         1     0  \n",
       "128802         1     1  \n",
       "128803         1     1  \n",
       "\n",
       "[128804 rows x 6 columns]"
      ]
     },
     "execution_count": 13,
     "metadata": {},
     "output_type": "execute_result"
    }
   ],
   "source": [
    "df_cleaned"
   ]
  },
  {
   "cell_type": "code",
   "execution_count": 14,
   "metadata": {},
   "outputs": [],
   "source": [
    "# Let's save the cleaned dataset\n",
    "cleaned_dataset_filepath = \"data/steam_200_cleaned_data.csv\"\n",
    "df_cleaned.to_csv(cleaned_dataset_filepath,index=False,header=True)"
   ]
  }
 ],
 "metadata": {
  "kernelspec": {
   "display_name": ".venv",
   "language": "python",
   "name": "python3"
  },
  "language_info": {
   "codemirror_mode": {
    "name": "ipython",
    "version": 3
   },
   "file_extension": ".py",
   "mimetype": "text/x-python",
   "name": "python",
   "nbconvert_exporter": "python",
   "pygments_lexer": "ipython3",
   "version": "3.11.8"
  }
 },
 "nbformat": 4,
 "nbformat_minor": 2
}
